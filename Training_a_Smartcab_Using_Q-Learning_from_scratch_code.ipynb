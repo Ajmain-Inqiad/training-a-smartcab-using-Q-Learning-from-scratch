{
 "cells": [
  {
   "cell_type": "markdown",
   "metadata": {},
   "source": [
    " "
   ]
  },
  {
   "cell_type": "markdown",
   "metadata": {},
   "source": [
    "# Training a Smartcab Using Q-Learning from scratch"
   ]
  },
  {
   "cell_type": "markdown",
   "metadata": {},
   "source": [
    "In this project, we are going to implement Q learning from scratch in a game named Smartcab. We are going to build an agent who is going to play and learn using penalties and rewards that it gets from each stage"
   ]
  },
  {
   "cell_type": "markdown",
   "metadata": {},
   "source": [
    "## Objective of the environment"
   ]
  },
  {
   "cell_type": "markdown",
   "metadata": {},
   "source": [
    "There are 4 locations which are labeled by different letters: R, G, B and Y. Our goal is to pick up the passenger from one location and drop him off at another. This is a text based environment. So everything is in ASCII character."
   ]
  },
  {
   "cell_type": "markdown",
   "metadata": {},
   "source": [
    "## Import necessary libraries"
   ]
  },
  {
   "cell_type": "code",
   "execution_count": 1,
   "metadata": {},
   "outputs": [],
   "source": [
    "import gym\n",
    "#importing taxi-v2 environment\n",
    "taxi_env = gym.make('Taxi-v2')"
   ]
  },
  {
   "cell_type": "markdown",
   "metadata": {},
   "source": [
    "## Initialization and rendering"
   ]
  },
  {
   "cell_type": "code",
   "execution_count": 2,
   "metadata": {},
   "outputs": [
    {
     "name": "stdout",
     "output_type": "stream",
     "text": [
      "Action space Discrete(6)\n",
      "State Space Discrete(500)\n",
      "Initiate state 313\n"
     ]
    }
   ],
   "source": [
    "print(\"Action space {}\".format(taxi_env.action_space))\n",
    "print(\"State Space {}\".format(taxi_env.observation_space))\n",
    "\n",
    "taxi_init = taxi_env.reset()\n",
    "print(\"Initiate state {}\".format(taxi_init))"
   ]
  },
  {
   "cell_type": "markdown",
   "metadata": {},
   "source": [
    "From above we can see that, we have action space 6 which means we have 6 actions:\n",
    "<p>North, East, South, West, Pickup and Drop-off</p>\n",
    "\n",
    "We have state space value 500. Let's see how we achieve that:\n",
    "<table>\n",
    "    <thead>\n",
    "        <th>Information</th>\n",
    "        <th>Possible Values</th>\n",
    "        <th>Number of possible values</th>\n",
    "    </thead>\n",
    "    <tbody>\n",
    "        <tr>\n",
    "            <td>Taxi row</td>\n",
    "            <td>0,1,2,3,4</td>\n",
    "            <td>5</td>\n",
    "        </tr>\n",
    "        <tr>\n",
    "            <td>Taxi column</td>\n",
    "            <td>0,1,2,3,4</td>\n",
    "            <td>5</td>\n",
    "        </tr>\n",
    "        <tr>\n",
    "            <td>Destination</td>\n",
    "            <td>R,G,B,Y</td>\n",
    "            <td>4</td>\n",
    "        </tr>\n",
    "        <tr>\n",
    "            <td>Passenger location</td>\n",
    "            <td>R,G,B,Y, Onboard</td>\n",
    "            <td>5</td>\n",
    "        </tr>\n",
    "    </tbody>\n",
    "</table>\n",
    "\n",
    "State space = 5x5x4x5 = 500\n",
    "\n",
    "Initiate space is 313. It is an encoded value which is combined of taxi location, destination and passenger location. Let's try to understand that in next section."
   ]
  },
  {
   "cell_type": "markdown",
   "metadata": {},
   "source": [
    "## Decoding initiate space"
   ]
  },
  {
   "cell_type": "code",
   "execution_count": 3,
   "metadata": {},
   "outputs": [
    {
     "name": "stdout",
     "output_type": "stream",
     "text": [
      "Decode state  [3, 0, 3, 1]\n",
      "+---------+\n",
      "|R: | : :\u001b[35mG\u001b[0m|\n",
      "| : : : : |\n",
      "| : : : : |\n",
      "|\u001b[43m \u001b[0m| : | : |\n",
      "|Y| : |\u001b[34;1mB\u001b[0m: |\n",
      "+---------+\n",
      "\n"
     ]
    }
   ],
   "source": [
    "print(\"Decode state \", list(taxi_env.env.decode(taxi_init)))\n",
    "taxi_env.render() #to see what is the current environment"
   ]
  },
  {
   "cell_type": "markdown",
   "metadata": {},
   "source": [
    "We can see that, after decoding the initiate space, we have a list of value.\n",
    "<br>In list, first two value indicates the taxi position which is (3,0) (row 3 and column 0). Here the yellow bar indicates as taxi. After that 3rd value in list is 3 which indicates pickup location. It is colored as blue. The last value indicates drop-off location which is 1. In this case, it is G and color as magenta. Besides, in this environment, we can see that, there are some black bars. These mean that, taxi can not go through those bars."
   ]
  },
  {
   "cell_type": "markdown",
   "metadata": {},
   "source": [
    "## The reward table"
   ]
  },
  {
   "cell_type": "code",
   "execution_count": 4,
   "metadata": {},
   "outputs": [
    {
     "data": {
      "text/plain": [
       "{0: [(1.0, 413, -1, False)],\n",
       " 1: [(1.0, 213, -1, False)],\n",
       " 2: [(1.0, 313, -1, False)],\n",
       " 3: [(1.0, 313, -1, False)],\n",
       " 4: [(1.0, 313, -10, False)],\n",
       " 5: [(1.0, 313, -10, False)]}"
      ]
     },
     "execution_count": 4,
     "metadata": {},
     "output_type": "execute_result"
    }
   ],
   "source": [
    "taxi_env.env.P[taxi_init]"
   ]
  },
  {
   "cell_type": "markdown",
   "metadata": {},
   "source": [
    "These are the rewards that is set by environment which we get after taking any action: <br>\n",
    "\n",
    "Default reward: -1<br>\n",
    "Drop-off at right location: 20<br>\n",
    "Pickup at wrong location: -10<br>\n",
    "Drop-off at wrong location: -10<br>\n",
    "\n",
    "That means the higher time we take to Pickup or Drop-off any passenger, the negative value will be increasing.\n",
    "<br>From this result, we can see that, from current position, if we take north/south/east/west, we would be rewarded with -1 and if we drop-off/pickup in current position, we would be rewarded with -10.\n",
    "<br> There is also a boolean value to indicate whether the episode is over by performing this action or not"
   ]
  },
  {
   "cell_type": "markdown",
   "metadata": {},
   "source": [
    "## Initiate a dump agent and evaluate"
   ]
  },
  {
   "cell_type": "markdown",
   "metadata": {},
   "source": [
    "We can measure the performance using following categories:\n",
    "<ul>\n",
    "    <li>Time Taken</li>\n",
    "    <li>Number of penalties</li>\n",
    "    <li>Reward obtained</li>\n",
    "</ul>"
   ]
  },
  {
   "cell_type": "code",
   "execution_count": 5,
   "metadata": {},
   "outputs": [
    {
     "name": "stdout",
     "output_type": "stream",
     "text": [
      "Avg reward per move -3.911261582323592\n",
      "Avg time steps per episodes 196.42\n",
      "Avg num of penalties per episode 63.7\n"
     ]
    }
   ],
   "source": [
    "#to calculate the performance, we are running the same loop but with some additional parameter\n",
    "epochs, penalties, total_reward = 0, 0, 0\n",
    "episodes = 100 #we are running for 100 times\n",
    "current_episode = 0\n",
    "while current_episode < episodes:\n",
    "    reward = 0\n",
    "    done = False\n",
    "    while not done:\n",
    "        \n",
    "        #picking up a random action from action space and current position\n",
    "        some_action = taxi_env.action_space.sample()\n",
    "        \n",
    "        #executing that action. This returns us next stage, the reward we got from taking that step, boolean value \n",
    "        #which indicates whether our episode is done or not and some additional debugging info\n",
    "        state, reward, done, info = taxi_env.step(some_action)\n",
    "        \n",
    "        #if the reward is -10, that means we have taken a wrong action and number of penalty is incremented by 1\n",
    "        if(reward == -10):\n",
    "            penalties += 1\n",
    "        epochs += 1\n",
    "        total_reward += reward\n",
    "    \n",
    "    current_episode += 1\n",
    "    taxi_env.reset()\n",
    "\n",
    "print(\"Avg reward per move {}\".format(total_reward / float(epochs)))\n",
    "print(\"Avg time steps per episodes {}\".format(epochs / float(episodes)))\n",
    "print(\"Avg num of penalties per episode {}\".format(penalties / float(episodes)))"
   ]
  },
  {
   "cell_type": "markdown",
   "metadata": {},
   "source": [
    "Here we can see that, average reward per move is 3.9113 which is bad as we have gone to negative value. Average time steps per episodes and average num of penalties per episode are also high.\n",
    "\n",
    "These shows that, our initial agent is failed miserably in this taxi-v2 environment"
   ]
  },
  {
   "cell_type": "markdown",
   "metadata": {},
   "source": [
    "## Implementing the Q learning from scratch"
   ]
  },
  {
   "cell_type": "markdown",
   "metadata": {},
   "source": [
    "### Q-Learning parameters"
   ]
  },
  {
   "cell_type": "code",
   "execution_count": 6,
   "metadata": {},
   "outputs": [],
   "source": [
    "alphaList = [0.5, 0.6, 0.7] #this is the learning rate\n",
    "gammaList = [0.5, 0.6, 0.7] #the discount factor\n",
    "epsilonList = [0.7, 0.8, 0.9] #to balance between exploration and exploitation. \n",
    "#This value means we are more prone to exploration\n",
    "\n",
    "#if epsilon is 0, that means we are only going to trust our experience to learn"
   ]
  },
  {
   "cell_type": "markdown",
   "metadata": {},
   "source": [
    "### Initializing Q table"
   ]
  },
  {
   "cell_type": "code",
   "execution_count": 7,
   "metadata": {},
   "outputs": [],
   "source": [
    "import numpy as np\n",
    "from collections import defaultdict\n",
    "\n",
    "#initially, the q table is set to 0 and its size is state_space_size x action_space_size\n",
    "q_table = np.zeros([taxi_env.observation_space.n, taxi_env.action_space.n])"
   ]
  },
  {
   "cell_type": "markdown",
   "metadata": {},
   "source": [
    "### Updating the Q-values after every epoch\n",
    "\n",
    "![https://s31.postimg.cc/tmim26kqx/q_learning_equation.png](https://s31.postimg.cc/tmim26kqx/q_learning_equation.png?dl=1)"
   ]
  },
  {
   "cell_type": "code",
   "execution_count": 8,
   "metadata": {},
   "outputs": [],
   "source": [
    "def q_learning(q_table, env, state, epsilon, alpha, gamma):\n",
    "    \"\"\"\n",
    "    Update the q table based on q learning equation\n",
    "    \"\"\"\n",
    "    \n",
    "    #This if condition to decide whether we do exploration or exploitation based on epsilon value\n",
    "    #Firstly we sample a random number between 0 and 1 and compare with epsilon\n",
    "    #if is greater than epsilon that mean we are going to explore, we select a random from action_space from that state\n",
    "    #if not that means we are going to exploit,then we select a optimal action from q table\n",
    "    if(random.uniform(0,1) > epsilon):\n",
    "        action = taxi_env.action_space.sample()\n",
    "    else:\n",
    "        #it compares all the q values for all the actions and returns the highest q valued action\n",
    "        action = chooseOptimalAction(q_table, state)\n",
    "        \n",
    "    #executing that action and obtaining the next state.\n",
    "    next_state, reward, done, _ = taxi_env.step(action)\n",
    "    \n",
    "    #extract the old q value from table for that action and state\n",
    "    old_q_value = q_table[state][action]\n",
    "    \n",
    "    #then we calculate the future optimal value taking numpy max on row corrosponding to the next state in q table\n",
    "    next_max = np.max(q_table[next_state])\n",
    "    \n",
    "    #calculate the updated q value\n",
    "    new_q_value = (1-alpha)* old_q_value + alpha * (reward + gamma * next_max)\n",
    "    \n",
    "    #update q table with new q value\n",
    "    q_table[state][action] = new_q_value\n",
    "    \n",
    "    \n",
    "    return next_state, reward, done"
   ]
  },
  {
   "cell_type": "code",
   "execution_count": 9,
   "metadata": {},
   "outputs": [],
   "source": [
    "import random\n",
    "\n",
    "def chooseOptimalAction(q_table, state):\n",
    "    \"\"\"\n",
    "    We are using np.argmax to get the highest index of the column having the highest q value in the row correspoing \n",
    "    to the state in the q table\n",
    "    \"\"\"\n",
    "    \n",
    "    \"\"\"\n",
    "    This if to check when all the q table values are 0, that means this state row has not been explored\n",
    "    In that state,we are returing any random action instead of returning the first action which np.argmax does by \n",
    "    default if all the values are equal\n",
    "    \"\"\"\n",
    "    if(np.sum(q_table[state]) == 0):\n",
    "        return random.randint(0, q_table.shape[1]-1)\n",
    "    \n",
    "    return np.argmax(q_table[state])"
   ]
  },
  {
   "cell_type": "code",
   "execution_count": 10,
   "metadata": {},
   "outputs": [],
   "source": [
    "def train_agent(q_table, env, num_episodes, epsilon, alpha, gamma):\n",
    "    \n",
    "    \"\"\"\n",
    "    Function to train our agent\n",
    "    Parameters are: q_table, env, num_episodes (number of episodes to run or train agent), epsilon, alpha, gama\n",
    "    \"\"\"\n",
    "    \n",
    "    for i in range(num_episodes):\n",
    "        state = env.reset()\n",
    "        done = False\n",
    "        while not done:\n",
    "            state, reward, done = q_learning(q_table, env, state, epsilon, alpha, gamma)\n",
    "\n",
    "    return q_table"
   ]
  },
  {
   "cell_type": "code",
   "execution_count": 11,
   "metadata": {},
   "outputs": [],
   "source": [
    "\"\"\"Evaluation function for agent by exploition of q table\"\"\"\n",
    "def run_episodes(q_table, env, num_trials):\n",
    "    data_by_episode = [] #list to keep track of all the variables that we need to calculate performance\n",
    "    for i in range(num_trials):\n",
    "        state = env.reset()\n",
    "        epochs, penalties, episode_reward = 0, 0, 0\n",
    "        \n",
    "        done = False\n",
    "        while not done:\n",
    "            \n",
    "            next_action = chooseOptimalAction(q_table, state)\n",
    "            state, reward, done, _ = env.step(next_action)   \n",
    "            \n",
    "            if(reward == -10):\n",
    "                penalties += 1\n",
    "                \n",
    "            epochs += 1\n",
    "            \n",
    "            episode_reward += reward\n",
    "            \n",
    "        data_by_episode.append((epochs, penalties, episode_reward))\n",
    "    return data_by_episode"
   ]
  },
  {
   "cell_type": "code",
   "execution_count": 12,
   "metadata": {},
   "outputs": [],
   "source": [
    "\"\"\"Evaluation function for agent by exploition of q table\"\"\"\n",
    "def calculate_episode(trial_data):\n",
    "    epochs, penalties, reward = zip(*trial_data)\n",
    "    total_epochs, total_penalties, total_reward = sum(epochs), sum(penalties), sum(reward)\n",
    "    num_trials = len(epochs)\n",
    "    avg_time = total_epochs / float(num_trials)\n",
    "    avg_penalties = total_penalties / float(num_trials)\n",
    "    avg_reward_per_move = total_reward / float(total_epochs)\n",
    "    return (avg_time, avg_penalties, avg_reward_per_move)"
   ]
  },
  {
   "cell_type": "markdown",
   "metadata": {},
   "source": [
    "### Train the agent"
   ]
  },
  {
   "cell_type": "code",
   "execution_count": 13,
   "metadata": {},
   "outputs": [
    {
     "name": "stdout",
     "output_type": "stream",
     "text": [
      "When alpha = 0.5 , gamma = 0.5 , epsilon = 0.7\n",
      "Avg reward per move 0.8197573656845754\n",
      "Avg time steps taken 11.54\n",
      "Avg num of penalties incurred 0.0\n",
      "======================================\n",
      "When alpha = 0.6 , gamma = 0.6 , epsilon = 0.8\n",
      "Avg reward per move 0.8103448275862069\n",
      "Avg time steps taken 11.6\n",
      "Avg num of penalties incurred 0.0\n",
      "======================================\n",
      "When alpha = 0.7 , gamma = 0.7 , epsilon = 0.9\n",
      "Avg reward per move 0.8041237113402062\n",
      "Avg time steps taken 11.64\n",
      "Avg num of penalties incurred 0.0\n",
      "======================================\n"
     ]
    }
   ],
   "source": [
    "data_plot = []\n",
    "for i in range(3):\n",
    "    epsilon = epsilonList[i]\n",
    "    alpha = alphaList[i]\n",
    "    gamma = gammaList[i]\n",
    "    data_to_plot = []\n",
    "    q_table = np.zeros([taxi_env.observation_space.n, taxi_env.action_space.n])\n",
    "    train_episodes_before_eval = 100 #number of times to train the agent\n",
    "    num_episodes_for_eval = 50 #number of episode to test agent performance\n",
    "    while True:\n",
    "\n",
    "        #training the agent and updating the q table\n",
    "        q_table = train_agent(q_table, taxi_env, train_episodes_before_eval, epsilon=epsilon,alpha=alpha, gamma=gamma)\n",
    "\n",
    "        #testing the agent performance\n",
    "        trial_data = run_episodes(q_table, taxi_env,num_episodes_for_eval)\n",
    "        \"\"\"\n",
    "        What is happening in above two lines that, we are continuosly training our agent for 100 episodes and \n",
    "        testing it for 50 episodes\n",
    "        \"\"\"\n",
    "\n",
    "        #after testing we are calculating the performance of agent\n",
    "        avg_time, avg_penalties, avg_reward_per_move = calculate_episode(trial_data)\n",
    "\n",
    "        #list to plot the data\n",
    "        data_to_plot.append((avg_time, avg_penalties, avg_reward_per_move))\n",
    "\n",
    "\n",
    "        \"\"\"\n",
    "        Time to stop learning the agent can be decided by looking into three factors:\n",
    "        1. Agent finishes the training fast enough for several episodes continuosly\n",
    "        2. No penalties\n",
    "        3. Average reward of successive episodes is greater than the threshold value\n",
    "\n",
    "        So here we checking if penalties is 0 and average reward is greater than thrshold, in this case 0.8\n",
    "        \"\"\"\n",
    "\n",
    "        if avg_penalties == 0 and avg_reward_per_move > 0.8:\n",
    "            print(\"When alpha = {} , gamma = {} , epsilon = {}\".format(alpha, gamma, epsilon))\n",
    "            print(\"Avg reward per move {}\".format(avg_reward_per_move))\n",
    "            print(\"Avg time steps taken {}\".format(avg_time))\n",
    "            print(\"Avg num of penalties incurred {}\".format(avg_penalties))\n",
    "            print(\"======================================\")\n",
    "            break\n",
    "    data_plot.append(data_to_plot)"
   ]
  },
  {
   "cell_type": "markdown",
   "metadata": {},
   "source": [
    "<table>\n",
    "    <thead>\n",
    "        <th>Specs</th>\n",
    "        <th>Avg. reward per move</th>\n",
    "        <th>Time steps per episode</th>\n",
    "        <th>Avg. number of penalties</th>\n",
    "    </thead>\n",
    "    <tbody>\n",
    "        <tr>\n",
    "            <td>Alpha=0.5<br>Gamma=0.5<br>Epsilon=0.7</td>\n",
    "            <td>0.8197574</td>\n",
    "            <td>11.54</td>\n",
    "            <td>0.0</td>\n",
    "        </tr>\n",
    "        <tr>\n",
    "            <td>Alpha=0.6<br>Gamma=0.6<br>Epsilon=0.8</td>\n",
    "            <td>0.810345</td>\n",
    "            <td>11.60</td>\n",
    "            <td>0.0</td>\n",
    "        </tr>\n",
    "        <tr>\n",
    "            <td>Alpha=0.7<br>Gamma=0.7<br>Epsilon=0.9</td>\n",
    "            <td>0.804124</td>\n",
    "            <td>11.64</td>\n",
    "            <td>0.0</td>\n",
    "        </tr>\n",
    "    </tbody>\n",
    "</table>\n",
    "\n",
    "As we can see from that result that, among the 3 scenarios, 1st scenario where alpha = 0.5, gamma = 0.5 and epsilon = 0.7 provided us the shortest time steps taken and reward is more than others."
   ]
  },
  {
   "cell_type": "markdown",
   "metadata": {},
   "source": [
    "### Plot result"
   ]
  },
  {
   "cell_type": "code",
   "execution_count": 14,
   "metadata": {},
   "outputs": [
    {
     "data": {
      "image/png": "[encoded data removed]",
      "text/plain": [
       "<Figure size 1152x360 with 3 Axes>"
      ]
     },
     "metadata": {
      "needs_background": "light"
     },
     "output_type": "display_data"
    }
   ],
   "source": [
    "%matplotlib inline\n",
    "import matplotlib.pyplot as plt\n",
    "\n",
    "\n",
    "fig, axes = plt.subplots(1, len(alphaList), figsize=(16,5), squeeze=False)\n",
    "for index in range(len(alphaList)):\n",
    "    alpha = alphaList[index]\n",
    "    gamma = gammaList[index]\n",
    "    epsilon = epsilonList[index]\n",
    "    plt.subplot(1, 3, (index+1))\n",
    "    plt.title(\"Fig - {}: Alpha={},Gamma={},Epsilon={}\".format(index, alpha,gamma,epsilon))\n",
    "    rewards_by_eval = [data[2] for data in data_plot[index]]\n",
    "    episode_counts = [j*train_episodes_before_eval for j in range(len(data_plot[index]))]\n",
    "    plt.plot(episode_counts, rewards_by_eval)\n",
    "    plt.xlabel(\"Number of episodes\")\n",
    "    plt.ylabel(\"Avg rewards per move\")\n",
    "plt.show()"
   ]
  },
  {
   "cell_type": "code",
   "execution_count": 15,
   "metadata": {},
   "outputs": [
    {
     "data": {
      "image/png": "[encoded data removed]",
      "text/plain": [
       "<Figure size 1152x360 with 3 Axes>"
      ]
     },
     "metadata": {
      "needs_background": "light"
     },
     "output_type": "display_data"
    }
   ],
   "source": [
    "fig, axes = plt.subplots(1, len(alphaList), figsize=(16,5), squeeze=False)\n",
    "for index in range(len(alphaList)):\n",
    "    alpha = alphaList[index]\n",
    "    gamma = gammaList[index]\n",
    "    epsilon = epsilonList[index]\n",
    "    plt.subplot(1, 3, (index+1))\n",
    "    plt.title(\"Fig - {}: Alpha={},Gamma={},Epsilon={}\".format(index,alpha,gamma,epsilon))\n",
    "    times_steps_by_eval = [data[0] for data in data_plot[index]]\n",
    "    episode_counts = [j*train_episodes_before_eval for j in range(len(data_plot[index]))]\n",
    "    plt.plot(episode_counts, times_steps_by_eval)\n",
    "    plt.xlabel(\"Number of episodes\")\n",
    "    plt.ylabel(\"Time steps to finish the episodes\")\n",
    "plt.show()"
   ]
  },
  {
   "cell_type": "markdown",
   "metadata": {},
   "source": [
    "## Learnings"
   ]
  },
  {
   "cell_type": "markdown",
   "metadata": {},
   "source": [
    "### Comparing agents performances"
   ]
  },
  {
   "cell_type": "markdown",
   "metadata": {},
   "source": [
    "<table>\n",
    "    <thead>\n",
    "        <th></th>\n",
    "        <th>Initial Agent</th>\n",
    "        <th>Q-Learning Agent (Using the best result)</th>\n",
    "    </thead>\n",
    "    <tbody>\n",
    "        <tr>\n",
    "            <td>Time steps</td>\n",
    "            <td>196.42</td>\n",
    "            <td>11.54</td>\n",
    "        </tr>\n",
    "        <tr>\n",
    "            <td>Number of penalties</td>\n",
    "            <td>63.7</td>\n",
    "            <td>0.0</td>\n",
    "        </tr>\n",
    "        <tr>\n",
    "            <td>Rewards per move</td>\n",
    "            <td>-3.91126</td>\n",
    "            <td>0.819757</td>\n",
    "        </tr>\n",
    "    </tbody>\n",
    "</table>\n",
    "As we can see from this performance table that, our agent learns better after implementing the Q-Learning method."
   ]
  },
  {
   "cell_type": "markdown",
   "metadata": {},
   "source": [
    "### Improvements"
   ]
  },
  {
   "cell_type": "markdown",
   "metadata": {},
   "source": [
    "<ul>\n",
    "    <li>Initialize Q values when the (state,action) combination is encountered to utilize the memory. Because there might be some state,action which might be never occured in environment</li>\n",
    "    <li>Implement epsilon decay in which we use exploration in beginning and exploitation as training progress</li>\n",
    "</ul>"
   ]
  },
  {
   "cell_type": "markdown",
   "metadata": {},
   "source": [
    "### Limitation of Q-Learning"
   ]
  },
  {
   "cell_type": "markdown",
   "metadata": {},
   "source": [
    "<ul>\n",
    "    <li>Not scalable. If we change the dimension to any large number so the q table and state space will grow explonatially in size.</li>\n",
    "    <li>Sparse rewards cause issues. For example it can not will a puzzle or chess game by exploring the actions.</li>\n",
    "    <li>Fails in continous space because it requires discrete action space.</li>\n",
    "</ul>"
   ]
  }
 ],
 "metadata": {
  "kernelspec": {
   "display_name": "Python 3",
   "language": "python",
   "name": "python3"
  },
  "language_info": {
   "codemirror_mode": {
    "name": "ipython",
    "version": 3
   },
   "file_extension": ".py",
   "mimetype": "text/x-python",
   "name": "python",
   "nbconvert_exporter": "python",
   "pygments_lexer": "ipython3",
   "version": "3.6.7"
  }
 },
 "nbformat": 4,
 "nbformat_minor": 2
}
